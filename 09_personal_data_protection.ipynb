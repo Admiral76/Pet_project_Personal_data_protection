{
 "cells": [
  {
   "cell_type": "markdown",
   "metadata": {
    "toc": true
   },
   "source": [
    "<h1>Содержание<span class=\"tocSkip\"></span></h1>\n",
    "<div class=\"toc\"><ul class=\"toc-item\"><li><span><a href=\"#Загрузка-и-подготовка-данных\" data-toc-modified-id=\"Загрузка-и-подготовка-данных-1\"><span class=\"toc-item-num\">1&nbsp;&nbsp;</span>Загрузка и подготовка данных</a></span></li><li><span><a href=\"#Умножение-матриц\" data-toc-modified-id=\"Умножение-матриц-2\"><span class=\"toc-item-num\">2&nbsp;&nbsp;</span>Умножение матриц</a></span></li><li><span><a href=\"#Алгоритм-преобразования\" data-toc-modified-id=\"Алгоритм-преобразования-3\"><span class=\"toc-item-num\">3&nbsp;&nbsp;</span>Алгоритм преобразования</a></span><ul class=\"toc-item\"><li><span><a href=\"#Алгоритм\" data-toc-modified-id=\"Алгоритм-3.1\"><span class=\"toc-item-num\">3.1&nbsp;&nbsp;</span>Алгоритм</a></span></li><li><span><a href=\"#Обоснование\" data-toc-modified-id=\"Обоснование-3.2\"><span class=\"toc-item-num\">3.2&nbsp;&nbsp;</span>Обоснование</a></span></li></ul></li><li><span><a href=\"#Проверка-алгоритма\" data-toc-modified-id=\"Проверка-алгоритма-4\"><span class=\"toc-item-num\">4&nbsp;&nbsp;</span>Проверка алгоритма</a></span></li><li><span><a href=\"#Вывод\" data-toc-modified-id=\"Вывод-5\"><span class=\"toc-item-num\">5&nbsp;&nbsp;</span>Вывод</a></span></li><li><span><a href=\"#Чек-лист-проверки\" data-toc-modified-id=\"Чек-лист-проверки-6\"><span class=\"toc-item-num\">6&nbsp;&nbsp;</span>Чек-лист проверки</a></span></li></ul></div>"
   ]
  },
  {
   "cell_type": "markdown",
   "metadata": {},
   "source": [
    "# Защита персональных данных клиентов"
   ]
  },
  {
   "cell_type": "markdown",
   "metadata": {},
   "source": [
    "***Необходимо защитить данные клиентов страховой компании «Хоть потоп». Разработаем такой метод преобразования данных, чтобы по ним было сложно восстановить персональную информацию, а так же чтобы качество моделей машинного обучения не ухудшилось. Обоснуем корректность его работы.***\n",
    "\n",
    "**ОПИСАНИЕ ДАННЫХ**\n",
    "\n",
    "**Признаки:** пол, возраст и зарплата застрахованного, количество членов его семьи.\n",
    "\n",
    "**Целевой признак:** количество страховых выплат клиенту за последние 5 лет.\n",
    "\n",
    "**ПЛАН РАБОТЫ**\n",
    "\n",
    "1. Загрузить и изучить данные.\n",
    "2. Ответить на вопрос и обосновать решение: \"Признаки умножают на обратимую матрицу. Изменится ли качество линейной регрессии?\"\n",
    "    - a. Изменится\n",
    "    - b. Не изменится    \n",
    "3. Предложить алгоритм преобразования данных для решения задачи. Обосновать, почему качество линейной регрессии не поменяется.\n",
    "4. Запрограммировать этот алгоритм, применив матричные операции. Проверьть, что качество линейной регрессии из sklearn не отличается до и после преобразования. Применить метрику R2."
   ]
  },
  {
   "cell_type": "markdown",
   "metadata": {},
   "source": [
    "## Загрузка и подготовка данных "
   ]
  },
  {
   "cell_type": "markdown",
   "metadata": {},
   "source": [
    "Импорт необходимых библиотек"
   ]
  },
  {
   "cell_type": "code",
   "execution_count": 1,
   "metadata": {},
   "outputs": [],
   "source": [
    "import pandas as pd\n",
    "import numpy as np\n",
    "\n",
    "import seaborn as sns\n",
    "import matplotlib.pyplot as plt\n",
    "\n",
    "from sklearn.model_selection import train_test_split\n",
    "from sklearn.linear_model import LinearRegression\n",
    "from sklearn.metrics import r2_score\n",
    "\n",
    "import warnings\n",
    "warnings.simplefilter(action='ignore', category=FutureWarning)"
   ]
  },
  {
   "cell_type": "markdown",
   "metadata": {},
   "source": [
    "Загрузим таблицу, выведем первые 5 строк и краткую информацию"
   ]
  },
  {
   "cell_type": "code",
   "execution_count": 2,
   "metadata": {},
   "outputs": [
    {
     "data": {
      "text/html": [
       "<div>\n",
       "<style scoped>\n",
       "    .dataframe tbody tr th:only-of-type {\n",
       "        vertical-align: middle;\n",
       "    }\n",
       "\n",
       "    .dataframe tbody tr th {\n",
       "        vertical-align: top;\n",
       "    }\n",
       "\n",
       "    .dataframe thead th {\n",
       "        text-align: right;\n",
       "    }\n",
       "</style>\n",
       "<table border=\"1\" class=\"dataframe\">\n",
       "  <thead>\n",
       "    <tr style=\"text-align: right;\">\n",
       "      <th></th>\n",
       "      <th>Пол</th>\n",
       "      <th>Возраст</th>\n",
       "      <th>Зарплата</th>\n",
       "      <th>Члены семьи</th>\n",
       "      <th>Страховые выплаты</th>\n",
       "    </tr>\n",
       "  </thead>\n",
       "  <tbody>\n",
       "    <tr>\n",
       "      <th>0</th>\n",
       "      <td>1</td>\n",
       "      <td>41.0</td>\n",
       "      <td>49600.0</td>\n",
       "      <td>1</td>\n",
       "      <td>0</td>\n",
       "    </tr>\n",
       "    <tr>\n",
       "      <th>1</th>\n",
       "      <td>0</td>\n",
       "      <td>46.0</td>\n",
       "      <td>38000.0</td>\n",
       "      <td>1</td>\n",
       "      <td>1</td>\n",
       "    </tr>\n",
       "    <tr>\n",
       "      <th>2</th>\n",
       "      <td>0</td>\n",
       "      <td>29.0</td>\n",
       "      <td>21000.0</td>\n",
       "      <td>0</td>\n",
       "      <td>0</td>\n",
       "    </tr>\n",
       "    <tr>\n",
       "      <th>3</th>\n",
       "      <td>0</td>\n",
       "      <td>21.0</td>\n",
       "      <td>41700.0</td>\n",
       "      <td>2</td>\n",
       "      <td>0</td>\n",
       "    </tr>\n",
       "    <tr>\n",
       "      <th>4</th>\n",
       "      <td>1</td>\n",
       "      <td>28.0</td>\n",
       "      <td>26100.0</td>\n",
       "      <td>0</td>\n",
       "      <td>0</td>\n",
       "    </tr>\n",
       "  </tbody>\n",
       "</table>\n",
       "</div>"
      ],
      "text/plain": [
       "   Пол  Возраст  Зарплата  Члены семьи  Страховые выплаты\n",
       "0    1     41.0   49600.0            1                  0\n",
       "1    0     46.0   38000.0            1                  1\n",
       "2    0     29.0   21000.0            0                  0\n",
       "3    0     21.0   41700.0            2                  0\n",
       "4    1     28.0   26100.0            0                  0"
      ]
     },
     "metadata": {},
     "output_type": "display_data"
    },
    {
     "name": "stdout",
     "output_type": "stream",
     "text": [
      "<class 'pandas.core.frame.DataFrame'>\n",
      "RangeIndex: 5000 entries, 0 to 4999\n",
      "Data columns (total 5 columns):\n",
      " #   Column             Non-Null Count  Dtype  \n",
      "---  ------             --------------  -----  \n",
      " 0   Пол                5000 non-null   int64  \n",
      " 1   Возраст            5000 non-null   float64\n",
      " 2   Зарплата           5000 non-null   float64\n",
      " 3   Члены семьи        5000 non-null   int64  \n",
      " 4   Страховые выплаты  5000 non-null   int64  \n",
      "dtypes: float64(2), int64(3)\n",
      "memory usage: 195.4 KB\n"
     ]
    }
   ],
   "source": [
    "try:\n",
    "    my_df = pd.read_csv('/datasets/insurance.csv')\n",
    "except:\n",
    "    my_df = pd.read_csv(r'C:\\Users\\Admiral\\Desktop\\учеба\\практикум\\Проекты\\Datasets\\09_insurance.csv')\n",
    "\n",
    "display(my_df.head())\n",
    "my_df.info()"
   ]
  },
  {
   "cell_type": "markdown",
   "metadata": {},
   "source": [
    "На первый взгляд все в порядке, но для удобства лучше перевести наименования столбцов на англ. язык, а так же столбец с возрастом перевести в целочисленный тип данных. Пропуски отсутствуют."
   ]
  },
  {
   "cell_type": "code",
   "execution_count": 3,
   "metadata": {},
   "outputs": [],
   "source": [
    "my_df.columns = ['gender', 'age', 'salary', 'relatives', 'insurance_pay']"
   ]
  },
  {
   "cell_type": "markdown",
   "metadata": {},
   "source": [
    "Выведем основные статистические показатели"
   ]
  },
  {
   "cell_type": "code",
   "execution_count": 4,
   "metadata": {},
   "outputs": [
    {
     "data": {
      "text/html": [
       "<div>\n",
       "<style scoped>\n",
       "    .dataframe tbody tr th:only-of-type {\n",
       "        vertical-align: middle;\n",
       "    }\n",
       "\n",
       "    .dataframe tbody tr th {\n",
       "        vertical-align: top;\n",
       "    }\n",
       "\n",
       "    .dataframe thead th {\n",
       "        text-align: right;\n",
       "    }\n",
       "</style>\n",
       "<table border=\"1\" class=\"dataframe\">\n",
       "  <thead>\n",
       "    <tr style=\"text-align: right;\">\n",
       "      <th></th>\n",
       "      <th>gender</th>\n",
       "      <th>age</th>\n",
       "      <th>salary</th>\n",
       "      <th>relatives</th>\n",
       "      <th>insurance_pay</th>\n",
       "    </tr>\n",
       "  </thead>\n",
       "  <tbody>\n",
       "    <tr>\n",
       "      <th>count</th>\n",
       "      <td>5000.000000</td>\n",
       "      <td>5000.000000</td>\n",
       "      <td>5000.000000</td>\n",
       "      <td>5000.000000</td>\n",
       "      <td>5000.000000</td>\n",
       "    </tr>\n",
       "    <tr>\n",
       "      <th>mean</th>\n",
       "      <td>0.499000</td>\n",
       "      <td>30.952800</td>\n",
       "      <td>39916.360000</td>\n",
       "      <td>1.194200</td>\n",
       "      <td>0.148000</td>\n",
       "    </tr>\n",
       "    <tr>\n",
       "      <th>std</th>\n",
       "      <td>0.500049</td>\n",
       "      <td>8.440807</td>\n",
       "      <td>9900.083569</td>\n",
       "      <td>1.091387</td>\n",
       "      <td>0.463183</td>\n",
       "    </tr>\n",
       "    <tr>\n",
       "      <th>min</th>\n",
       "      <td>0.000000</td>\n",
       "      <td>18.000000</td>\n",
       "      <td>5300.000000</td>\n",
       "      <td>0.000000</td>\n",
       "      <td>0.000000</td>\n",
       "    </tr>\n",
       "    <tr>\n",
       "      <th>25%</th>\n",
       "      <td>0.000000</td>\n",
       "      <td>24.000000</td>\n",
       "      <td>33300.000000</td>\n",
       "      <td>0.000000</td>\n",
       "      <td>0.000000</td>\n",
       "    </tr>\n",
       "    <tr>\n",
       "      <th>50%</th>\n",
       "      <td>0.000000</td>\n",
       "      <td>30.000000</td>\n",
       "      <td>40200.000000</td>\n",
       "      <td>1.000000</td>\n",
       "      <td>0.000000</td>\n",
       "    </tr>\n",
       "    <tr>\n",
       "      <th>75%</th>\n",
       "      <td>1.000000</td>\n",
       "      <td>37.000000</td>\n",
       "      <td>46600.000000</td>\n",
       "      <td>2.000000</td>\n",
       "      <td>0.000000</td>\n",
       "    </tr>\n",
       "    <tr>\n",
       "      <th>max</th>\n",
       "      <td>1.000000</td>\n",
       "      <td>65.000000</td>\n",
       "      <td>79000.000000</td>\n",
       "      <td>6.000000</td>\n",
       "      <td>5.000000</td>\n",
       "    </tr>\n",
       "  </tbody>\n",
       "</table>\n",
       "</div>"
      ],
      "text/plain": [
       "            gender          age        salary    relatives  insurance_pay\n",
       "count  5000.000000  5000.000000   5000.000000  5000.000000    5000.000000\n",
       "mean      0.499000    30.952800  39916.360000     1.194200       0.148000\n",
       "std       0.500049     8.440807   9900.083569     1.091387       0.463183\n",
       "min       0.000000    18.000000   5300.000000     0.000000       0.000000\n",
       "25%       0.000000    24.000000  33300.000000     0.000000       0.000000\n",
       "50%       0.000000    30.000000  40200.000000     1.000000       0.000000\n",
       "75%       1.000000    37.000000  46600.000000     2.000000       0.000000\n",
       "max       1.000000    65.000000  79000.000000     6.000000       5.000000"
      ]
     },
     "metadata": {},
     "output_type": "display_data"
    }
   ],
   "source": [
    "display(my_df.describe())"
   ]
  },
  {
   "cell_type": "markdown",
   "metadata": {},
   "source": [
    "На первый взгляд аномалии отсутствуют. Изменим тип данных во всех колонках кроме зарплаты на uit8"
   ]
  },
  {
   "cell_type": "code",
   "execution_count": 5,
   "metadata": {},
   "outputs": [],
   "source": [
    "my_df[['gender', 'age', 'insurance_pay', 'relatives']] = my_df[['gender', 'age',\\\n",
    "                                                                'insurance_pay',\\\n",
    "                                                                'relatives']].astype('uint8')"
   ]
  },
  {
   "cell_type": "markdown",
   "metadata": {},
   "source": [
    "Проверим наличие дубликатов"
   ]
  },
  {
   "cell_type": "code",
   "execution_count": 6,
   "metadata": {},
   "outputs": [
    {
     "data": {
      "text/plain": [
       "153"
      ]
     },
     "metadata": {},
     "output_type": "display_data"
    }
   ],
   "source": [
    "display(my_df.duplicated().sum())"
   ]
  },
  {
   "cell_type": "markdown",
   "metadata": {},
   "source": [
    "Из 5000 наблюдений 153 являются дубликатами. Но в данных отсутствуют фамилия, имя клиента или id, поэтому мы не можем утвержать что это дубликаты, вероятно это просто совпадения"
   ]
  },
  {
   "cell_type": "markdown",
   "metadata": {},
   "source": [
    "Изучим корреляцию между признаками"
   ]
  },
  {
   "cell_type": "code",
   "execution_count": 7,
   "metadata": {},
   "outputs": [
    {
     "data": {
      "image/png": "[encoded data removed]",
      "text/plain": [
       "<Figure size 936x288 with 2 Axes>"
      ]
     },
     "metadata": {
      "needs_background": "light"
     },
     "output_type": "display_data"
    }
   ],
   "source": [
    "plt.figure(figsize=(13, 4))\n",
    "my_heatmap = sns.heatmap(my_df.corr(), annot=True, linewidths=1.1, linecolor='thistle')\n",
    "my_heatmap.set_yticklabels(my_heatmap.get_yticklabels(), rotation=0)\n",
    "plt.title('Тепловая матрица корреляции', pad='20', fontsize=16)\n",
    "plt.show()"
   ]
  },
  {
   "cell_type": "markdown",
   "metadata": {},
   "source": [
    "Корреляция, выше средней, присутствует только между целевым признаком и возрастом"
   ]
  },
  {
   "cell_type": "markdown",
   "metadata": {},
   "source": [
    "Рассмотрим распределения признаков"
   ]
  },
  {
   "cell_type": "code",
   "execution_count": 8,
   "metadata": {
    "scrolled": false
   },
   "outputs": [
    {
     "data": {
      "image/png": "[encoded data removed]",
      "text/plain": [
       "<Figure size 936x1800 with 5 Axes>"
      ]
     },
     "metadata": {},
     "output_type": "display_data"
    }
   ],
   "source": [
    "sns.set(style='darkgrid')\n",
    "tup = ()\n",
    "fig,tup = plt.subplots(5,1, figsize=(13,25))\n",
    "\n",
    "for i in range(len(my_df.columns)):\n",
    "    sns.distplot(my_df.iloc[:, i], ax=tup[i], color='sienna')\n",
    "\n",
    "plt.title('Графики распределения признаков', pad='1150', fontsize=16)\n",
    "plt.show()"
   ]
  },
  {
   "cell_type": "markdown",
   "metadata": {},
   "source": [
    "В таблице имеется одинаковое количество данных о клиентах мужского и женсого пола, в основном клиенты возрастом от 18 до 40 лет, зарплата имеет нормальное распределение, клиенты по большей части имеют от 0 до 3 родственников. Что касаемо целевого признака мы наблюдаем серьезный дисбаланс. Подавляющее большинство наблюдений имеет 0 по количеству страховых выплат."
   ]
  },
  {
   "cell_type": "markdown",
   "metadata": {},
   "source": [
    "## Умножение матриц"
   ]
  },
  {
   "cell_type": "markdown",
   "metadata": {},
   "source": [
    "В данном разделе мы проверим, изменится ли качество линейной регрессии, если признаки умножить на обратимую матрицу. Для этого мы используем некоторые матричные теоремы для преобразования формул и последующего сравнения предсказания на обычных признаках и зашифрованных."
   ]
  },
  {
   "cell_type": "markdown",
   "metadata": {},
   "source": [
    "Введем обозначения:\n",
    "\n",
    "- $X$ — матрица признаков (нулевой столбец состоит из единиц)\n",
    "\n",
    "- $y$ — вектор целевого признака\n",
    "\n",
    "- $a$ — вектор предсказаний\n",
    "\n",
    "- $P$ — матрица, на которую умножаются признаки\n",
    "\n",
    "- $w$ — вектор весов линейной регрессии (нулевой элемент равен сдвигу)\n",
    "\n",
    "- $E$ — единичная матрица"
   ]
  },
  {
   "cell_type": "markdown",
   "metadata": {},
   "source": [
    "Формула предсказания:\n",
    "\n",
    "$$\n",
    "a = Xw\n",
    "$$\n",
    "\n",
    "Формула обучения:\n",
    "\n",
    "$$\n",
    "w = (X^T X)^{-1} X^T y\n",
    "$$\n",
    "\n",
    "Задача обучения:\n",
    "\n",
    "$$\n",
    "w = \\arg\\min_w MSE(Xw, y)\n",
    "$$\n"
   ]
  },
  {
   "cell_type": "markdown",
   "metadata": {},
   "source": [
    "**Необходимые теоремы:**\n",
    "\n",
    "1. Ассоциативный закон умножения\n",
    "\n",
    "$$A B C = A ( B C ) = ( A B ) C $$\n",
    "\n",
    "2. Правила транспонирования\n",
    "\n",
    "    2.1\n",
    "$$(А^T)^T = А$$\n",
    "    2.2\n",
    "$$( A B)^T = B^T A^T$$\n",
    "    2.3\n",
    "$$( A B C)^T = C^T B ^T A^T$$\n",
    "\n",
    "3. Правила обратимых матриц\n",
    "\n",
    "    3.1$$AE = EA = A$$\n",
    "    3.2$$АА^{-1} = А^{-1} А = E$$\n",
    "    3.3$$(А^{-1} )^{-1} = А$$\n",
    "    3.4$$(AB)^{-1} = B^{-1} A^{-1}$$\n",
    "    3.5$$(ABC)^{-1} = C^{-1} B^{-1} A^{-1}$$\n",
    "    3.6$$(А^T)^{-1} = (А^{-1} )^T$$\n",
    "\n",
    "\n",
    "    "
   ]
  },
  {
   "cell_type": "markdown",
   "metadata": {},
   "source": [
    "Для начала, используя теоремы, попробуем преобразовать формулу обучения:\n",
    "$$w = (X^T X)^{-1} X^T y$$\n",
    "Раскроем скобки, применив правило №3.4:\n",
    "$$w = X^{-1} (X^T)^{-1} X^T y$$\n",
    "Видим, что используя правило №3.2, мы можем произвести сокращение. Тогда останется:\n",
    "$$w = X^{-1} E y$$\n",
    "что, согласно правилу №3.1 эквивалентно:\n",
    "$$w = X^{-1} y$$\n",
    "Дальше преобразовывать некуда. Теперь проделаем ту же операцию с матрицей умноженной на обратимую матрицу. Конечно можно подставить значение полученной матрицы в уже преобразованную формулу, но ради интереса пройдем весь путь с начала. Начальная формула обучения теперь будет выглядеть так:\n",
    "$$w^{'} = ((XP)^T XP)^{-1} (XP)^T y$$\n",
    "Раскроем левые внешнии скобки, используя правило №3.5:\n",
    "$$w^{'} = P^{-1} X^{-1} ((XP)^T)^{-1} (XP)^T y$$\n",
    "Видим, что используя правило №3.2, мы можем произвести сокращение. Тогда останется:\n",
    "$$w^{'} = P^{-1} X^{-1} E y$$\n",
    "что, согласно правилу №3.1 эквивалентно:\n",
    "$$w^{'} = P^{-1} X^{-1} y$$\n",
    "Подставив в правую часть выражения *w* вместо:\n",
    "$$X^{-1} y$$\n",
    "выведем связь между параметрами линейной регрессии в исходной задаче и в преобразованной:\n",
    "$$w^{'} = P^{-1} w$$\n",
    "Умножим обе части уравнения на P слева:\n",
    "$$P w^{'} = P P^{-1} w$$\n",
    "Используем правило №3.2:\n",
    "$$P w^{'} = E w$$\n",
    "что эквивалентно:\n",
    "$$w = P w^{'}$$\n"
   ]
  },
  {
   "cell_type": "markdown",
   "metadata": {},
   "source": [
    "У нас имеется два вектора весов:\n",
    "$$w = X^{-1} y$$\n",
    "$$w^{'} = P^{-1} X^{-1} y$$\n",
    "Подставим их в формулу предсказания:\n",
    "$$a = X X^{-1} y$$\n",
    "$$a^{'} = X P P^{-1} X^{-1} y$$\n",
    "Используя правило 3.2 проведем поочередно преобразование:\n",
    "$$a = X X^{-1} y$$\n",
    "$$a = E y$$\n",
    "$$a = y$$\n",
    "и:\n",
    "$$a^{'} = X P P^{-1} X^{-1} y$$\n",
    "$$a^{'} = X E X^{-1} y$$\n",
    "$$a^{'} = X X^{-1} y$$\n",
    "$$a^{'} = E y$$\n",
    "$$a^{'} = y$$"
   ]
  },
  {
   "cell_type": "markdown",
   "metadata": {},
   "source": [
    "**Ответ:** При умножении признаков на обратимую матрицу качество линейной регрессии не изменится\n",
    "\n",
    "**Обоснование:** Умножение признаков на обратимую матрицу никак не влияет на итоговые предсказания, оно лишь изменяет веса признаков, так как:\n",
    "$$a^{'} = a$$\n",
    "но:\n",
    "$$w^{'} = P^{-1} w$$"
   ]
  },
  {
   "cell_type": "markdown",
   "metadata": {},
   "source": [
    "## Алгоритм преобразования"
   ]
  },
  {
   "cell_type": "markdown",
   "metadata": {},
   "source": [
    "### Алгоритм"
   ]
  },
  {
   "cell_type": "markdown",
   "metadata": {},
   "source": [
    "1. Напишем функцию, которая сгенирирует нам случайную матрицу при помощи метода np.random.randint размером 4х4 (так как размер нашей матрицы с наблюдениями и признаками 5000х4) и проверит ее на обратимость при помощи проверки наличия/отсутствия ошибки на функции np.linalg.inv() по сгенерированной матрице. Если матрица пройдет проверку - функция вернет нам ее, если не пройдет - функция вызовет сама себя и сгенерирует новую матрицу.\n",
    "2. Разделим данные на признаки и целевой признак\n",
    "3. Умножим нашу матрицу с признаками на полученную обратимую матрицу. Получившуюся матрицу сохраним в отдельной переменной\n",
    "4. При помощи функции train_test_split из библиотеки sklearn.model_selection разделим все данные на обучающую и тестовую выборки\n",
    "5. Проведем обучение и тестирование модели на основе алгоритма Линейной регрессии"
   ]
  },
  {
   "cell_type": "markdown",
   "metadata": {},
   "source": [
    "### Обоснование"
   ]
  },
  {
   "cell_type": "markdown",
   "metadata": {},
   "source": [
    "Разделим данные на признаки и целевой признак"
   ]
  },
  {
   "cell_type": "code",
   "execution_count": 9,
   "metadata": {},
   "outputs": [],
   "source": [
    "X = my_df.drop('insurance_pay', axis=1)\n",
    "y = my_df.insurance_pay"
   ]
  },
  {
   "cell_type": "markdown",
   "metadata": {},
   "source": [
    "Сохраним в отдельной переменной копию признаков, которые в дальнейшем будем преобразовывать путем умножения на обратимую матрицу"
   ]
  },
  {
   "cell_type": "code",
   "execution_count": 10,
   "metadata": {},
   "outputs": [],
   "source": [
    "X_converted = X.copy()"
   ]
  },
  {
   "cell_type": "markdown",
   "metadata": {},
   "source": [
    "Напишем функцию, которая гарантированно вернет нам обратимую матрицу"
   ]
  },
  {
   "cell_type": "code",
   "execution_count": 11,
   "metadata": {},
   "outputs": [],
   "source": [
    "def reversible(n, m):\n",
    "    matrix = np.random.randint(-200, 200, size=(n,m))\n",
    "    try:\n",
    "        np.linalg.inv(matrix)\n",
    "        return matrix\n",
    "    except:\n",
    "        reversible(n,m)"
   ]
  },
  {
   "cell_type": "markdown",
   "metadata": {},
   "source": [
    "Сохраним в отдельную переменную случайную обратимую матрицу"
   ]
  },
  {
   "cell_type": "code",
   "execution_count": 12,
   "metadata": {},
   "outputs": [
    {
     "data": {
      "text/plain": [
       "array([[ 154, -106, -141,  170],\n",
       "       [ 175,  134,   26,  182],\n",
       "       [ 175,   35,  -72,  100],\n",
       "       [ 165,  187, -182,  177]])"
      ]
     },
     "metadata": {},
     "output_type": "display_data"
    }
   ],
   "source": [
    "my_matrix = reversible(4,4)\n",
    "display(my_matrix)"
   ]
  },
  {
   "cell_type": "markdown",
   "metadata": {},
   "source": [
    "Преобразуем матрицу путем умножения на обратимую матрицу"
   ]
  },
  {
   "cell_type": "code",
   "execution_count": 13,
   "metadata": {},
   "outputs": [],
   "source": [
    "X_converted = X_converted @ my_matrix"
   ]
  },
  {
   "cell_type": "markdown",
   "metadata": {},
   "source": [
    "Подставим в формулу наши матрицы и посчитаем вектор весов по обычным признакам и по преобразованным:\n",
    "$$w = (X^T X)^{-1} X^T y$$"
   ]
  },
  {
   "cell_type": "code",
   "execution_count": 14,
   "metadata": {},
   "outputs": [],
   "source": [
    "w = np.linalg.inv(X.T @ X) @ X.T @ y\n",
    "w_converted = np.linalg.inv(X_converted.T @ X_converted) @ X_converted.T @ y"
   ]
  },
  {
   "cell_type": "markdown",
   "metadata": {},
   "source": [
    "Расчитаем предсказания на обычной и преобразованной матрицах по формуле:\n",
    "$$a = Xw$$"
   ]
  },
  {
   "cell_type": "code",
   "execution_count": 15,
   "metadata": {},
   "outputs": [],
   "source": [
    "a = X.values @ w\n",
    "a_converted = X_converted.values @ w_converted"
   ]
  },
  {
   "cell_type": "markdown",
   "metadata": {},
   "source": [
    "Проверим на сколько максимум рознятся предсказания на обычной и преобразованной матрицах"
   ]
  },
  {
   "cell_type": "code",
   "execution_count": 16,
   "metadata": {},
   "outputs": [
    {
     "name": "stdout",
     "output_type": "stream",
     "text": [
      "Максимальная ошибка: 0.00000016\n"
     ]
    }
   ],
   "source": [
    "print(f'Максимальная ошибка: {abs(a - a_converted).max():.8f}')"
   ]
  },
  {
   "cell_type": "markdown",
   "metadata": {},
   "source": [
    "Максимальная ошибка незначительна, подобные ошибки можно не учитывать. Расчет показал что вектора предсказаний \"а\" и \"a_converted\" не имеют значимых различий. Приступим к практической проверке алгоритма."
   ]
  },
  {
   "cell_type": "markdown",
   "metadata": {},
   "source": [
    "## Проверка алгоритма"
   ]
  },
  {
   "cell_type": "markdown",
   "metadata": {},
   "source": [
    "Напишем функцию которая на вход получит признаки и целевой признак, разделит данные на обучающую и тестовую выборки, обучит модель линейной регрессии на обучающей выборке, сделает предсказания на тестовой и выведет значение метрики R2"
   ]
  },
  {
   "cell_type": "code",
   "execution_count": 17,
   "metadata": {},
   "outputs": [],
   "source": [
    "def my_LinReg(my_X, my_y, status):\n",
    "    X_t, X_v, y_t, y_v = train_test_split(my_X, my_y, test_size=.25, random_state=99)\n",
    "    model = LinearRegression()\n",
    "    model.fit(X_t, y_t)\n",
    "    pred = model.predict(X_v)\n",
    "    print(f'Метрика R2 {status} преобразования матрицы признаков: {r2_score(y_v, pred):.16f}')"
   ]
  },
  {
   "cell_type": "markdown",
   "metadata": {},
   "source": [
    "Используя функцию, расчитаем метрику R2 на обычных и зашифрованных признаках"
   ]
  },
  {
   "cell_type": "code",
   "execution_count": 18,
   "metadata": {},
   "outputs": [
    {
     "name": "stdout",
     "output_type": "stream",
     "text": [
      "Метрика R2  до   преобразования матрицы признаков: 0.4458052004598034\n",
      "Метрика R2 после преобразования матрицы признаков: 0.4458052004598008\n"
     ]
    }
   ],
   "source": [
    "my_LinReg(X, y, ' до  ')\n",
    "my_LinReg(X_converted, y, 'после')"
   ]
  },
  {
   "cell_type": "markdown",
   "metadata": {},
   "source": [
    "Можно с уверенностью заключить, что умножение матрицы признаков на обратимую матрицу никак не влияет на качество предсказаний модели."
   ]
  },
  {
   "cell_type": "markdown",
   "metadata": {},
   "source": [
    "## Вывод"
   ]
  },
  {
   "cell_type": "markdown",
   "metadata": {},
   "source": [
    "Во время подготовки проекта были выполнены следующие шаги и сделаны следующие выводы:\n",
    "\n",
    "- Загрузили и изучили данные. Провели легкую предобработку данных. Изучили корреляцию между признаками и графики распределения признаков.\n",
    "- Математически доказали, что умножение матрицы признаков на любую обратимую матрицу никак не влияет на итоговые предсказания, но изменяет вектор весов для признаков.\n",
    "- Расписали алгоритм шифрования данных, а так же математически подтвердили на основе нашего алгоритма шифрования уже на реальных данных, что умножение матрицы признаков на любую обратимую матрицу никак не влияет на итоговые предсказания.\n",
    "- Проверили, что качество линейной регрессии из sklearn не отличается до и после преобразования методом сравнения метрик R2"
   ]
  }
 ],
 "metadata": {
  "kernelspec": {
   "display_name": "Python 3",
   "language": "python",
   "name": "python3"
  },
  "language_info": {
   "codemirror_mode": {
    "name": "ipython",
    "version": 3
   },
   "file_extension": ".py",
   "mimetype": "text/x-python",
   "name": "python",
   "nbconvert_exporter": "python",
   "pygments_lexer": "ipython3",
   "version": "3.8.5"
  },
  "toc": {
   "base_numbering": 1,
   "nav_menu": {},
   "number_sections": true,
   "sideBar": true,
   "skip_h1_title": true,
   "title_cell": "Содержание",
   "title_sidebar": "Contents",
   "toc_cell": true,
   "toc_position": {},
   "toc_section_display": true,
   "toc_window_display": false
  }
 },
 "nbformat": 4,
 "nbformat_minor": 2
}
